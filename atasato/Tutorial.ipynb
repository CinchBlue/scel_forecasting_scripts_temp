{
 "cells": [
  {
   "cell_type": "markdown",
   "metadata": {},
   "source": [
    "Welcome to SCEL's Forecasting Python Tutorial\n",
    "=============================================\n",
    "* * * *"
   ]
  },
  {
   "cell_type": "markdown",
   "metadata": {},
   "source": [
    "Table of Contents\n",
    "--------------------"
   ]
  },
  {
   "cell_type": "markdown",
   "metadata": {},
   "source": [
    "\n",
    "1. Basics\n",
    "    * Print Statements\n",
    "    * Lists\n",
    "    * If Else Statements\n",
    "    * For Loops\n",
    "    * Importing Libaries\n",
    "+ Numpy\n",
    "+ Pandas\n",
    "+ Plotting\n",
    "+ Machine Learning\n",
    "\n",
    "**********"
   ]
  },
  {
   "cell_type": "markdown",
   "metadata": {},
   "source": [
    "** Run this before starting the tutorial **"
   ]
  },
  {
   "cell_type": "code",
   "execution_count": null,
   "metadata": {
    "collapsed": true
   },
   "outputs": [],
   "source": [
    "#Import Libaries\n",
    "import numpy as np               #Numerical Libary\n",
    "import pandas as pd              #Data managing Libary\n",
    "import matplotlib.pyplot as plt  #Plotting Libary\n",
    "%matplotlib inline              "
   ]
  },
  {
   "cell_type": "markdown",
   "metadata": {},
   "source": [
    "Basics\n",
    "========="
   ]
  },
  {
   "cell_type": "markdown",
   "metadata": {},
   "source": [
    "** Print Statements **"
   ]
  },
  {
   "cell_type": "code",
   "execution_count": null,
   "metadata": {
    "collapsed": false
   },
   "outputs": [],
   "source": [
    "print('Hello World!')"
   ]
  },
  {
   "cell_type": "code",
   "execution_count": null,
   "metadata": {
    "collapsed": false
   },
   "outputs": [],
   "source": [
    "a = 150\n",
    "print('There is a', a, 'Pokemon.')"
   ]
  },
  {
   "cell_type": "code",
   "execution_count": null,
   "metadata": {
    "collapsed": false
   },
   "outputs": [],
   "source": [
    "a = 1\n",
    "b = 2\n",
    "c = 3\n",
    "print('Apple', 1, '\\nBlueberry', 2, '\\nCranberry', 3, '\\nDragon', 'Fruit')"
   ]
  },
  {
   "cell_type": "markdown",
   "metadata": {},
   "source": [
    "** Lists **\n",
    "\n",
    "To initalize a list use the following format.\n",
    "\n",
    "    variable = [foo, foo, foo, foo]"
   ]
  },
  {
   "cell_type": "code",
   "execution_count": null,
   "metadata": {
    "collapsed": false
   },
   "outputs": [],
   "source": [
    "#Example: List of numbers\n",
    "lista = [1, 2, 3, 4, 5, 6, 7]\n",
    "#Example: List of strings\n",
    "listb = ['cat', 'dog', 'mouse']\n",
    "\n",
    "#print lists\n",
    "print(lista)\n",
    "print(listb)\n",
    "\n",
    "#You can also combine lists by adding them\n",
    "listab = lista + listb\n",
    "print(listab)"
   ]
  },
  {
   "cell_type": "markdown",
   "metadata": {},
   "source": [
    "A useful command is append. What append does is add data to the end of the list. Formatting is below\n",
    "   \n",
    "    ListName.append(data)\n",
    "    "
   ]
  },
  {
   "cell_type": "code",
   "execution_count": null,
   "metadata": {
    "collapsed": false
   },
   "outputs": [],
   "source": [
    "#Example of using append\n",
    "listc = []             #intialize empty list\n",
    "listc.append('heads')   #add the string heads to the list\n",
    "listc.append(5)         #add the integer 5 to the end of the list\n",
    "listc.append('scel')\n",
    "listc.append('foo')\n",
    "\n",
    "print(listc)"
   ]
  },
  {
   "cell_type": "markdown",
   "metadata": {},
   "source": [
    "** If/Else Statements **\n",
    "\n",
    "Syntax for python for if and else statements are different from C. Firstly, Intializes your loops has the following format\n",
    "\n",
    "    if condition :\n",
    "    elif condition :\n",
    "    else condition :\n",
    "Note, you need end the line with an colon. Secondly, rather than using brackets to indicates whats to run if the statement returns true, Python uses tabs to indicate what block of code to run.\n",
    "\n",
    "  Name      | Operators     \n",
    "  ----------| ------------- \n",
    "  Equal     |       ==      \n",
    "  Not Equal |       !=      \n",
    "  Less Than |       <       \n",
    "  Greater Than |    >       \n",
    "  Greater Than or Equal to | >= \n",
    "  Less Than or Equal to | <= \n",
    "  And | and \n",
    "  Or | or\n",
    "  \n"
   ]
  },
  {
   "cell_type": "code",
   "execution_count": null,
   "metadata": {
    "collapsed": false
   },
   "outputs": [],
   "source": [
    "#Example use of if and else statements\n",
    "a = 1\n",
    "b = 0\n",
    "if( a and b == 1):\n",
    "    print('If')\n",
    "elif ( a or b == 1):\n",
    "    print('elif')\n",
    "else:\n",
    "    print('else')"
   ]
  },
  {
   "cell_type": "markdown",
   "metadata": {},
   "source": [
    "** For Loop **\n",
    "\n",
    "For loops in python is different from C. Rather then running until a condition is met, For loops in python takes in a list and will run until it completely iterated through the loop. Syntax goes as follow\n",
    "\n",
    "    for [variable] in [list]:\n",
    "   \n",
    "Useful functions for making for loops are\n",
    "\n",
    "    range(a,b) :  Has the for loop iterate from a to b.\n",
    "                        Example for range: range(0,10) will make the for loop run for [0,1,2,3,4,5,6,7,8,9]\n",
    "    np.linspace : Similar to Matlab's linspace\n",
    "    np.logspace : Similar to Matlab's logspace"
   ]
  },
  {
   "cell_type": "code",
   "execution_count": null,
   "metadata": {
    "collapsed": false
   },
   "outputs": [],
   "source": [
    "for i in range(0,10):\n",
    "    print(i)"
   ]
  },
  {
   "cell_type": "code",
   "execution_count": null,
   "metadata": {
    "collapsed": false
   },
   "outputs": [],
   "source": [
    "print('scel is\\n')\n",
    "for i in ['small', 'cats', 'emit', 'laziness']:\n",
    "    print(i)"
   ]
  },
  {
   "cell_type": "markdown",
   "metadata": {},
   "source": [
    "** Importing Libaries and Files** \n",
    "\n",
    "If you have taken EE160, you may recall importing functions from libaries or other files using #include. In python we use the syntax import. Importing a libary in python is simple. To import a libary or file, use the following format\n",
    "\n",
    "    import [name of libary or file] \n",
    "\n",
    "To make working with libaries easier, you may declare how you will call the libary when importing it.\n",
    "\n",
    "    import [name of libary] as [how you want to call the libary] "
   ]
  },
  {
   "cell_type": "code",
   "execution_count": null,
   "metadata": {
    "collapsed": false
   },
   "outputs": [],
   "source": [
    "#Import Libaries\n",
    "import numpy as np               #Numerical Libary\n",
    "import pandas as pd              #Data managing Libary\n",
    "import matplotlib.pyplot as plt  #Plotting Libary\n",
    "%matplotlib inline              \n",
    "\n",
    "#Example of using functions from libary\n",
    "example = np.sin(0)"
   ]
  },
  {
   "cell_type": "markdown",
   "metadata": {},
   "source": [
    "* * * * * * * * *"
   ]
  },
  {
   "cell_type": "markdown",
   "metadata": {},
   "source": [
    "Numpy\n",
    "========="
   ]
  },
  {
   "cell_type": "markdown",
   "metadata": {},
   "source": [
    "Numpy is a scientific computing package for python. The package imitates many functions found in Matlab. The package contains math functions such as cos(), random(), log(), exp(), and min(). Probably the most important feature in the numpy package is its ability to create and work with arrays and matrixes. Since python does not built in array or matrix function, we will be using numpy to make arrays and matrixes."
   ]
  },
  {
   "cell_type": "markdown",
   "metadata": {},
   "source": [
    "** Arrays **\n",
    "\n",
    "As stated before we will be using numpy to make arrays because there is no built in array function. Formatting for using numpy's array function is a bit strange. To make a 1d array, you will just put insert a list into the function as shown below."
   ]
  },
  {
   "cell_type": "code",
   "execution_count": null,
   "metadata": {
    "collapsed": false
   },
   "outputs": [],
   "source": [
    "#Example of 1d Array\n",
    "example = np.array([0,1,2,3,4])\n",
    "print(example)"
   ]
  },
  {
   "cell_type": "markdown",
   "metadata": {},
   "source": [
    "To make a 2d array in numpy, an example is shown below\n",
    "\n",
    "    np.array([ [Row1], [Row2], [Row3]])\n",
    "    \n",
    "In the example, each row is a list."
   ]
  },
  {
   "cell_type": "code",
   "execution_count": null,
   "metadata": {
    "collapsed": false
   },
   "outputs": [],
   "source": [
    "#Example of 2d Array\n",
    "example = np.array([ [0,1,2], [3,4,5], [6,7,8]])\n",
    "print(example)"
   ]
  },
  {
   "cell_type": "markdown",
   "metadata": {},
   "source": [
    "** Matrixes **\n",
    "\n",
    "Since many machine learning algorithms involve matrix multiplication and other matrix operations, its important for us to know how to construct matrixes in Python using numpy. Initalizing a matrix using numpy is exactly the same as arrays, except the function name is different. Note, matrixes must be 2d array."
   ]
  },
  {
   "cell_type": "code",
   "execution_count": null,
   "metadata": {
    "collapsed": false
   },
   "outputs": [],
   "source": [
    "#Example of Matrix\n",
    "example = np.matrix([ [0,1,2], [3,4,5], [6,7,8]])\n",
    "print(example)"
   ]
  },
  {
   "cell_type": "markdown",
   "metadata": {},
   "source": [
    "** Difference in Matrix and Array Multiplication **"
   ]
  },
  {
   "cell_type": "markdown",
   "metadata": {},
   "source": [
    "As stated earlier, matrixes has special properties. One of these properties is it multiplication. The purpose of this section is to show multiplication of arrays is different from matrix. "
   ]
  },
  {
   "cell_type": "code",
   "execution_count": null,
   "metadata": {
    "collapsed": false
   },
   "outputs": [],
   "source": [
    "#Make example array\n",
    "a = np.array([2,4])\n",
    "b = np.array([[1, 1],[4, 4]])\n",
    "\n",
    "#Array Multiplication\n",
    "array = a * b\n",
    "\n",
    "#Print Results\n",
    "print('Example of Array Multiplication')\n",
    "print('a = \\n', a)\n",
    "print('b = \\n', b)\n",
    "print('a * b = \\n', array)"
   ]
  },
  {
   "cell_type": "code",
   "execution_count": null,
   "metadata": {
    "collapsed": false
   },
   "outputs": [],
   "source": [
    "#Make example arrays\n",
    "a = np.array([2,4])\n",
    "b = np.array([[1, 1],[4, 4]])\n",
    "\n",
    "#Change arrays to matrixes\n",
    "am = np.asmatrix(a)        \n",
    "bm = np.asmatrix(b)\n",
    "\n",
    "#Matrix Multiplication\n",
    "matrix = am * bm\n",
    "\n",
    "#Print Results\n",
    "print('Example of Matrix Multiplication')\n",
    "print('\\na = \\n', am)\n",
    "print('\\nb = \\n', bm)\n",
    "print('\\na * b = \\n', matrix)"
   ]
  },
  {
   "cell_type": "markdown",
   "metadata": {},
   "source": [
    "** Transposing a Matrix **\n",
    "\n",
    "Tranposing a matrix is simple. The format is shown below.\n",
    "\n",
    "    matrix.T\n",
    "\n",
    "    "
   ]
  },
  {
   "cell_type": "code",
   "execution_count": null,
   "metadata": {
    "collapsed": false
   },
   "outputs": [],
   "source": [
    "#Print example array\n",
    "example = np.array([[1, 2, 3],[4, 5, 6], [7, 8, 9]])\n",
    "print('Example Matirx\\n', example)"
   ]
  },
  {
   "cell_type": "code",
   "execution_count": null,
   "metadata": {
    "collapsed": false
   },
   "outputs": [],
   "source": [
    "#Tranpose example array and print results\n",
    "transpose_example = example.T\n",
    "print('Example Transpose Matrix\\n', transpose_example)"
   ]
  },
  {
   "cell_type": "markdown",
   "metadata": {},
   "source": [
    "** Inverting a Matrix **\n",
    "\n",
    "Inverting a  matrix is simple. The format is shown below.\n",
    "\n",
    "    matrix.I\n",
    "\n",
    "    "
   ]
  },
  {
   "cell_type": "code",
   "execution_count": null,
   "metadata": {
    "collapsed": false
   },
   "outputs": [],
   "source": [
    "example = np.matrix([[1, 2, 3],[4, 5, 6], [7, 8, 9]])       #Make 3 x 3 Matrix\n",
    "inverse = example.I                                         #Invert Matrix\n",
    "print('Example MatrixL \\n', example)                        #Print Matrix\n",
    "print('\\nInverse Matrix: \\n', inverse)"
   ]
  },
  {
   "cell_type": "markdown",
   "metadata": {},
   "source": [
    "Sometimes matrixes are not invertible. In that case you can using np.linal.pinv() . This function is a pseudo inverse."
   ]
  },
  {
   "cell_type": "code",
   "execution_count": null,
   "metadata": {
    "collapsed": false
   },
   "outputs": [],
   "source": [
    "inverse = np.linalg.pinv(example)                            \n",
    "print('Pseudo Inverse Matrix: \\n', inverse)   "
   ]
  },
  {
   "cell_type": "markdown",
   "metadata": {},
   "source": [
    "** Calling data from Arrays and Matrixes **\n"
   ]
  },
  {
   "cell_type": "markdown",
   "metadata": {},
   "source": [
    "To access data from array and matrixes use the following format\n",
    "\n",
    "    array[row you want to access][column you want to access]"
   ]
  },
  {
   "cell_type": "code",
   "execution_count": null,
   "metadata": {
    "collapsed": false
   },
   "outputs": [],
   "source": [
    "#Example Matrix\n",
    "example = np.arange(25).reshape((5, 5))\n",
    "print(example)"
   ]
  },
  {
   "cell_type": "code",
   "execution_count": null,
   "metadata": {
    "collapsed": false
   },
   "outputs": [],
   "source": [
    "#Example of calling a cell\n",
    "cell = example[0,1]          #Access row 0, column 1\n",
    "print(cell)"
   ]
  },
  {
   "cell_type": "code",
   "execution_count": null,
   "metadata": {
    "collapsed": true
   },
   "outputs": [],
   "source": [
    "#Example of calling a row\n",
    "row = example[:,1]           #Prints everything in row 1\n",
    "print(row)"
   ]
  },
  {
   "cell_type": "code",
   "execution_count": null,
   "metadata": {
    "collapsed": false
   },
   "outputs": [],
   "source": [
    "#Example of calling a col\n",
    "col = example[:,1]           #Prints everything in col 1\n",
    "print(col)"
   ]
  },
  {
   "cell_type": "code",
   "execution_count": null,
   "metadata": {
    "collapsed": false
   },
   "outputs": [],
   "source": [
    "#Example of selecting columns\n",
    "#For this example we will select the last two columns\n",
    "cols = example[:,1:4]       #The '1:' portion will access all columns 1 to 3\n",
    "print(cols)"
   ]
  },
  {
   "cell_type": "markdown",
   "metadata": {},
   "source": [
    "Pandas\n",
    "========="
   ]
  },
  {
   "cell_type": "markdown",
   "metadata": {},
   "source": [
    "Pandas is a data structure and analyzing package. Our primary use of the pandas library is to import data. "
   ]
  },
  {
   "cell_type": "code",
   "execution_count": null,
   "metadata": {
    "collapsed": false
   },
   "outputs": [],
   "source": [
    "#Can read data from urls\n",
    "example = pd.read_excel('https://archive.ics.uci.edu/ml/machine-learning-databases/concrete/compressive/Concrete_Data.xls')\n",
    "example"
   ]
  },
  {
   "cell_type": "code",
   "execution_count": null,
   "metadata": {
    "collapsed": false
   },
   "outputs": [],
   "source": [
    "#Can read files\n",
    "example = pd.read_csv('HousingExample.csv', header = None)\n",
    "example"
   ]
  },
  {
   "cell_type": "code",
   "execution_count": null,
   "metadata": {
    "collapsed": false
   },
   "outputs": [],
   "source": [
    "example"
   ]
  },
  {
   "cell_type": "markdown",
   "metadata": {},
   "source": [
    "* * * * * *\n",
    "Plotting\n",
    "============="
   ]
  },
  {
   "cell_type": "markdown",
   "metadata": {},
   "source": [
    "** Matplotlib **\n",
    "\n",
    "For plotting, we use the matplotlib package. Matplotlib is a plotting package for python with similar syntax to Matlab. Just like other packages, use import to include the package. However, its important to include %matplotlib line while including the package. %matplotlib inline enable Jupyter to display plots."
   ]
  },
  {
   "cell_type": "code",
   "execution_count": null,
   "metadata": {
    "collapsed": false
   },
   "outputs": [],
   "source": [
    "#Run this code before continuing the tutorial\n",
    "#Import the Matplotlib Package\n",
    "import numpy as np\n",
    "import matplotlib.pyplot as plt\n",
    "%matplotlib inline                "
   ]
  },
  {
   "cell_type": "markdown",
   "metadata": {},
   "source": [
    "** Example **\n",
    "\n",
    "In this example we will plot a simple sine curve using the matplotlib library."
   ]
  },
  {
   "cell_type": "code",
   "execution_count": null,
   "metadata": {
    "collapsed": false
   },
   "outputs": [],
   "source": [
    "#Construct x vector\n",
    "#In this case we are creating a vector from 0 to 2pi. There are 1000 points in this vector\n",
    "x = np.linspace(0, 2*np.pi, 1000)\n",
    "\n",
    "#Determine Y\n",
    "y = np.sin(x)\n",
    "\n",
    "#Plot x vs y and include label\n",
    "plt.plot(x,y, label = 'sin(x)')\n",
    "\n",
    "#Add Title\n",
    "plt.title('Example')        \n",
    "plt.legend()\n",
    "\n",
    "#Add Labels\n",
    "plt.ylabel('y')\n",
    "plt.xlabel('x')\n",
    "\n",
    "#Axes Limits\n",
    "plt.ylim([-2, 2])\n",
    "plt.xlim([0, 2*np.pi])"
   ]
  },
  {
   "cell_type": "markdown",
   "metadata": {},
   "source": [
    "* * * * * * *"
   ]
  },
  {
   "cell_type": "markdown",
   "metadata": {},
   "source": [
    "Machine Learning\n",
    "-------------------"
   ]
  },
  {
   "cell_type": "markdown",
   "metadata": {},
   "source": [
    "** Linear Regression Model **"
   ]
  },
  {
   "cell_type": "code",
   "execution_count": null,
   "metadata": {
    "collapsed": false
   },
   "outputs": [],
   "source": [
    "# Import Numpy Library\n",
    "import numpy as np\n",
    "\n",
    "#Make Simple data\n",
    "n_samples = 50\n",
    "np.random.seed(0)                                             #np.random.seed(0) makes it so random functions always give the same number\n",
    "X = np.random.random(size=(n_samples, 1))                     # Make random X vector\n",
    "y = 3 * X.squeeze() + 2 + 0.5 * np.random.randn(n_samples)    # Construct Y vector\n",
    "y = y + 0.5 * np.random.rand(n_samples)                       # Add Noise\n",
    "plt.plot(X.squeeze(), y, 'o');                                #Plot X vs y"
   ]
  },
  {
   "cell_type": "code",
   "execution_count": null,
   "metadata": {
    "collapsed": false
   },
   "outputs": [],
   "source": [
    "#Import Linear Regression Function\n",
    "from sklearn.linear_model import LinearRegression\n",
    "\n",
    "#Intialize Linear Regression Model\n",
    "model = LinearRegression()\n",
    "\n",
    "#Train/Fit the model\n",
    "#We are passing the X and y, so the model can be made\n",
    "model.fit(X, y)\n",
    "\n",
    "# Plot the data and the model prediction\n",
    "X_fit = np.linspace(0, 1, 100)[:, np.newaxis]\n",
    "y_fit = model.predict(X_fit)\n",
    "\n",
    "plt.plot(X.squeeze(), y, 'o')\n",
    "plt.plot(X_fit.squeeze(), y_fit);"
   ]
  },
  {
   "cell_type": "code",
   "execution_count": null,
   "metadata": {
    "collapsed": false
   },
   "outputs": [],
   "source": [
    "#Print Coefficents and Interceipt\n",
    "coef = model.coef_\n",
    "intercept = model.intercept_\n",
    "\n",
    "print('Intercept is', intercept)\n",
    "print('The coef is ', coef)"
   ]
  },
  {
   "cell_type": "markdown",
   "metadata": {},
   "source": [
    "** Placeholder **"
   ]
  },
  {
   "cell_type": "code",
   "execution_count": null,
   "metadata": {
    "collapsed": false
   },
   "outputs": [],
   "source": [
    "#Make Simple data\n",
    "n_samples = 50\n",
    "np.random.seed(0)                                             #np.random.seed(0) makes it so random functions always give the same number\n",
    "X = np.random.random(size=(n_samples, 1))                     # Make random X vector\n",
    "y = 3 * X.squeeze() + 2 + 0.5 * np.random.randn(n_samples)    # Construct Y vector\n",
    "y = y + 0.5 * np.random.rand(n_samples)                       # Add Noise\n",
    "\n",
    "\n",
    "#Calculate the weight vector\n",
    "one = np.ones((X.size, 1))                                    #Make a ones vector, this is used to find the intercept\n",
    "Xa = np.hstack((one,X))                                      # Add the one vector to X\n",
    "Xa = np.asmatrix(Xa).T                                        # Make X a matrix and transpose for later\n",
    "y = np.matrix(y).T                                            # Make Y a matrix and transpose for later\n",
    "                                                              # We transpose the matrix because equation w = (XX.T)^-1 * XD was\n",
    "                                                              # made to work with certain a orientation (feature/variables are rows)\n",
    "                                                              # You don't need tranpose the matrixes to always match this orientation\n",
    "                                                              # but you will need modify the equation for weights so the dimensions\n",
    "                                                              # match up.\n",
    "\n",
    "w = np.linalg.pinv((Xa*Xa.T))*Xa*y                            # w = (XX.T)^-1 * XD"
   ]
  },
  {
   "cell_type": "code",
   "execution_count": null,
   "metadata": {
    "collapsed": false
   },
   "outputs": [],
   "source": [
    "#Print Coefficients and Intercept\n",
    "coef = w[0]\n",
    "intercept = w[1]\n",
    "\n",
    "print('Intercept is', intercept)\n",
    "print('The coef is ', coef)"
   ]
  },
  {
   "cell_type": "code",
   "execution_count": null,
   "metadata": {
    "collapsed": true
   },
   "outputs": [],
   "source": []
  }
 ],
 "metadata": {
  "anaconda-cloud": {},
  "kernelspec": {
   "display_name": "Python [Root]",
   "language": "python",
   "name": "Python [Root]"
  },
  "language_info": {
   "codemirror_mode": {
    "name": "ipython",
    "version": 3
   },
   "file_extension": ".py",
   "mimetype": "text/x-python",
   "name": "python",
   "nbconvert_exporter": "python",
   "pygments_lexer": "ipython3",
   "version": "3.5.2"
  }
 },
 "nbformat": 4,
 "nbformat_minor": 0
}
