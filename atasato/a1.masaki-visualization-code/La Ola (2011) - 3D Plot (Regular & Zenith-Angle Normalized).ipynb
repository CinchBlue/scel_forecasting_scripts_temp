{
 "cells": [
  {
   "cell_type": "code",
   "execution_count": 1,
   "metadata": {
    "collapsed": true
   },
   "outputs": [],
   "source": [
    "# Original code by Masaki Inaba\n",
    "# Modified by SCEL Forecasting Team\n",
    "# Dataset: la Ola (2011) - 1 year, from [9:00am, 5:00pm]\n",
    "\n",
    "\n",
    "# MAKE SURE YOU CHANGE THE PATH TO THE LA OLA DATA."
   ]
  },
  {
   "cell_type": "code",
   "execution_count": 2,
   "metadata": {
    "collapsed": true
   },
   "outputs": [],
   "source": [
    "# Imports\n",
    "import numpy as np\n",
    "import scipy as sp\n",
    "import pandas as pd\n",
    "import matplotlib.pyplot as plt\n",
    "import datetime\n",
    "from mpl_toolkits.mplot3d import Axes3D\n",
    "from matplotlib import cm\n"
   ]
  },
  {
   "cell_type": "code",
   "execution_count": 3,
   "metadata": {
    "collapsed": false
   },
   "outputs": [],
   "source": [
    "# Functions\n",
    "def int_24hm_to_min(num):\n",
    "    hours = num // 100;\n",
    "    minutes = num % 100;\n",
    "    return hours*60 + minutes"
   ]
  },
  {
   "cell_type": "code",
   "execution_count": 4,
   "metadata": {
    "collapsed": false
   },
   "outputs": [],
   "source": [
    "# Read in data with Pandas\n",
    "raw_data_df = pd.read_csv(\"20110101LaOla.csv\")"
   ]
  },
  {
   "cell_type": "code",
   "execution_count": 5,
   "metadata": {
    "collapsed": false
   },
   "outputs": [
    {
     "data": {
      "text/html": [
       "<div>\n",
       "<table border=\"1\" class=\"dataframe\">\n",
       "  <thead>\n",
       "    <tr style=\"text-align: right;\">\n",
       "      <th></th>\n",
       "      <th>Unnamed: 0</th>\n",
       "      <th>Year</th>\n",
       "      <th>DOY</th>\n",
       "      <th>HST</th>\n",
       "      <th>Global Horizontal [W/m^2]</th>\n",
       "      <th>Direct Normal [W/m^2]</th>\n",
       "      <th>Diffuse Horizontal [W/m^2]</th>\n",
       "      <th>Air Temperature [deg C]</th>\n",
       "      <th>Station Pressure [mBar]</th>\n",
       "      <th>Avg Wind Speed @ 3m [m/s]</th>\n",
       "      <th>...</th>\n",
       "      <th>Diffuse (uncorrected) [W/m^2]</th>\n",
       "      <th>Global (secondary) [W/m^2]</th>\n",
       "      <th>GPS Status</th>\n",
       "      <th>Zenith Angle [degrees]</th>\n",
       "      <th>Azimuth Angle [degrees]</th>\n",
       "      <th>CR1000 Temp [deg C]</th>\n",
       "      <th>RSR Battery [VDC]</th>\n",
       "      <th>Rel Humidity [%]</th>\n",
       "      <th>Latitude [deg]</th>\n",
       "      <th>Longitude [deg]</th>\n",
       "    </tr>\n",
       "  </thead>\n",
       "  <tbody>\n",
       "    <tr>\n",
       "      <th>0</th>\n",
       "      <td>0</td>\n",
       "      <td>2011</td>\n",
       "      <td>1</td>\n",
       "      <td>0</td>\n",
       "      <td>0.000000</td>\n",
       "      <td>0.0</td>\n",
       "      <td>0.000000</td>\n",
       "      <td>16.85</td>\n",
       "      <td>972</td>\n",
       "      <td>1.113</td>\n",
       "      <td>...</td>\n",
       "      <td>0.000000</td>\n",
       "      <td>0.109349</td>\n",
       "      <td>-1.0</td>\n",
       "      <td>172.3</td>\n",
       "      <td>251.5</td>\n",
       "      <td>17.77</td>\n",
       "      <td>13.00</td>\n",
       "      <td>98.5</td>\n",
       "      <td>20.7669</td>\n",
       "      <td>-156.923</td>\n",
       "    </tr>\n",
       "    <tr>\n",
       "      <th>1</th>\n",
       "      <td>0</td>\n",
       "      <td>2011</td>\n",
       "      <td>1</td>\n",
       "      <td>1</td>\n",
       "      <td>0.080659</td>\n",
       "      <td>0.0</td>\n",
       "      <td>0.080659</td>\n",
       "      <td>16.85</td>\n",
       "      <td>972</td>\n",
       "      <td>0.900</td>\n",
       "      <td>...</td>\n",
       "      <td>0.072632</td>\n",
       "      <td>0.072899</td>\n",
       "      <td>-1.0</td>\n",
       "      <td>172.6</td>\n",
       "      <td>251.0</td>\n",
       "      <td>17.76</td>\n",
       "      <td>13.00</td>\n",
       "      <td>98.5</td>\n",
       "      <td>20.7669</td>\n",
       "      <td>-156.923</td>\n",
       "    </tr>\n",
       "    <tr>\n",
       "      <th>2</th>\n",
       "      <td>0</td>\n",
       "      <td>2011</td>\n",
       "      <td>1</td>\n",
       "      <td>2</td>\n",
       "      <td>0.040330</td>\n",
       "      <td>0.0</td>\n",
       "      <td>0.040330</td>\n",
       "      <td>16.85</td>\n",
       "      <td>972</td>\n",
       "      <td>0.988</td>\n",
       "      <td>...</td>\n",
       "      <td>0.036316</td>\n",
       "      <td>0.109350</td>\n",
       "      <td>-1.0</td>\n",
       "      <td>172.8</td>\n",
       "      <td>250.5</td>\n",
       "      <td>17.74</td>\n",
       "      <td>13.00</td>\n",
       "      <td>98.5</td>\n",
       "      <td>20.7669</td>\n",
       "      <td>-156.923</td>\n",
       "    </tr>\n",
       "    <tr>\n",
       "      <th>3</th>\n",
       "      <td>0</td>\n",
       "      <td>2011</td>\n",
       "      <td>1</td>\n",
       "      <td>3</td>\n",
       "      <td>0.524285</td>\n",
       "      <td>0.0</td>\n",
       "      <td>0.524285</td>\n",
       "      <td>16.84</td>\n",
       "      <td>972</td>\n",
       "      <td>1.038</td>\n",
       "      <td>...</td>\n",
       "      <td>0.472113</td>\n",
       "      <td>0.656099</td>\n",
       "      <td>0.0</td>\n",
       "      <td>173.0</td>\n",
       "      <td>250.0</td>\n",
       "      <td>17.72</td>\n",
       "      <td>12.97</td>\n",
       "      <td>98.5</td>\n",
       "      <td>20.7669</td>\n",
       "      <td>-156.923</td>\n",
       "    </tr>\n",
       "    <tr>\n",
       "      <th>4</th>\n",
       "      <td>0</td>\n",
       "      <td>2011</td>\n",
       "      <td>1</td>\n",
       "      <td>4</td>\n",
       "      <td>0.524286</td>\n",
       "      <td>0.0</td>\n",
       "      <td>0.524286</td>\n",
       "      <td>16.84</td>\n",
       "      <td>972</td>\n",
       "      <td>1.063</td>\n",
       "      <td>...</td>\n",
       "      <td>0.472114</td>\n",
       "      <td>0.473849</td>\n",
       "      <td>0.0</td>\n",
       "      <td>173.2</td>\n",
       "      <td>249.4</td>\n",
       "      <td>17.71</td>\n",
       "      <td>12.96</td>\n",
       "      <td>98.5</td>\n",
       "      <td>20.7669</td>\n",
       "      <td>-156.923</td>\n",
       "    </tr>\n",
       "  </tbody>\n",
       "</table>\n",
       "<p>5 rows × 26 columns</p>\n",
       "</div>"
      ],
      "text/plain": [
       "   Unnamed: 0  Year  DOY  HST  Global Horizontal [W/m^2]  \\\n",
       "0           0  2011    1    0                   0.000000   \n",
       "1           0  2011    1    1                   0.080659   \n",
       "2           0  2011    1    2                   0.040330   \n",
       "3           0  2011    1    3                   0.524285   \n",
       "4           0  2011    1    4                   0.524286   \n",
       "\n",
       "   Direct Normal [W/m^2]  Diffuse Horizontal [W/m^2]  Air Temperature [deg C]  \\\n",
       "0                    0.0                    0.000000                    16.85   \n",
       "1                    0.0                    0.080659                    16.85   \n",
       "2                    0.0                    0.040330                    16.85   \n",
       "3                    0.0                    0.524285                    16.84   \n",
       "4                    0.0                    0.524286                    16.84   \n",
       "\n",
       "   Station Pressure [mBar]  Avg Wind Speed @ 3m [m/s]       ...         \\\n",
       "0                      972                      1.113       ...          \n",
       "1                      972                      0.900       ...          \n",
       "2                      972                      0.988       ...          \n",
       "3                      972                      1.038       ...          \n",
       "4                      972                      1.063       ...          \n",
       "\n",
       "   Diffuse (uncorrected) [W/m^2]  Global (secondary) [W/m^2]  GPS Status  \\\n",
       "0                       0.000000                    0.109349        -1.0   \n",
       "1                       0.072632                    0.072899        -1.0   \n",
       "2                       0.036316                    0.109350        -1.0   \n",
       "3                       0.472113                    0.656099         0.0   \n",
       "4                       0.472114                    0.473849         0.0   \n",
       "\n",
       "   Zenith Angle [degrees]  Azimuth Angle [degrees]  CR1000 Temp [deg C]  \\\n",
       "0                   172.3                    251.5                17.77   \n",
       "1                   172.6                    251.0                17.76   \n",
       "2                   172.8                    250.5                17.74   \n",
       "3                   173.0                    250.0                17.72   \n",
       "4                   173.2                    249.4                17.71   \n",
       "\n",
       "   RSR Battery [VDC]  Rel Humidity [%]  Latitude [deg]  Longitude [deg]  \n",
       "0              13.00              98.5         20.7669         -156.923  \n",
       "1              13.00              98.5         20.7669         -156.923  \n",
       "2              13.00              98.5         20.7669         -156.923  \n",
       "3              12.97              98.5         20.7669         -156.923  \n",
       "4              12.96              98.5         20.7669         -156.923  \n",
       "\n",
       "[5 rows x 26 columns]"
      ]
     },
     "execution_count": 5,
     "metadata": {},
     "output_type": "execute_result"
    }
   ],
   "source": [
    "# Preview raw data\n",
    "raw_data_df.head()"
   ]
  },
  {
   "cell_type": "code",
   "execution_count": 6,
   "metadata": {
    "collapsed": false
   },
   "outputs": [
    {
     "data": {
      "text/html": [
       "<div>\n",
       "<table border=\"1\" class=\"dataframe\">\n",
       "  <thead>\n",
       "    <tr style=\"text-align: right;\">\n",
       "      <th></th>\n",
       "      <th>Year</th>\n",
       "      <th>DOY</th>\n",
       "      <th>HST</th>\n",
       "      <th>Global Horizontal [W/m^2]</th>\n",
       "      <th>Zenith Angle [degrees]</th>\n",
       "    </tr>\n",
       "  </thead>\n",
       "  <tbody>\n",
       "    <tr>\n",
       "      <th>0</th>\n",
       "      <td>2011</td>\n",
       "      <td>1</td>\n",
       "      <td>0</td>\n",
       "      <td>0.000000</td>\n",
       "      <td>172.3</td>\n",
       "    </tr>\n",
       "    <tr>\n",
       "      <th>1</th>\n",
       "      <td>2011</td>\n",
       "      <td>1</td>\n",
       "      <td>1</td>\n",
       "      <td>0.080659</td>\n",
       "      <td>172.6</td>\n",
       "    </tr>\n",
       "    <tr>\n",
       "      <th>2</th>\n",
       "      <td>2011</td>\n",
       "      <td>1</td>\n",
       "      <td>2</td>\n",
       "      <td>0.040330</td>\n",
       "      <td>172.8</td>\n",
       "    </tr>\n",
       "    <tr>\n",
       "      <th>3</th>\n",
       "      <td>2011</td>\n",
       "      <td>1</td>\n",
       "      <td>3</td>\n",
       "      <td>0.524285</td>\n",
       "      <td>173.0</td>\n",
       "    </tr>\n",
       "    <tr>\n",
       "      <th>4</th>\n",
       "      <td>2011</td>\n",
       "      <td>1</td>\n",
       "      <td>4</td>\n",
       "      <td>0.524286</td>\n",
       "      <td>173.2</td>\n",
       "    </tr>\n",
       "  </tbody>\n",
       "</table>\n",
       "</div>"
      ],
      "text/plain": [
       "   Year  DOY  HST  Global Horizontal [W/m^2]  Zenith Angle [degrees]\n",
       "0  2011    1    0                   0.000000                   172.3\n",
       "1  2011    1    1                   0.080659                   172.6\n",
       "2  2011    1    2                   0.040330                   172.8\n",
       "3  2011    1    3                   0.524285                   173.0\n",
       "4  2011    1    4                   0.524286                   173.2"
      ]
     },
     "execution_count": 6,
     "metadata": {},
     "output_type": "execute_result"
    }
   ],
   "source": [
    "# Select only certain columns that we're interested in.\n",
    "\n",
    "# Select by column name.\n",
    "df = raw_data_df.loc[:, ['Year', 'DOY', 'HST', 'Global Horizontal [W/m^2]', 'Zenith Angle [degrees]']]\n",
    "df.head()"
   ]
  },
  {
   "cell_type": "code",
   "execution_count": 7,
   "metadata": {
    "collapsed": false
   },
   "outputs": [
    {
     "data": {
      "text/html": [
       "<div>\n",
       "<table border=\"1\" class=\"dataframe\">\n",
       "  <thead>\n",
       "    <tr style=\"text-align: right;\">\n",
       "      <th></th>\n",
       "      <th>year</th>\n",
       "      <th>day</th>\n",
       "      <th>time</th>\n",
       "      <th>irradiation</th>\n",
       "      <th>zenith angle</th>\n",
       "    </tr>\n",
       "  </thead>\n",
       "  <tbody>\n",
       "    <tr>\n",
       "      <th>0</th>\n",
       "      <td>2011</td>\n",
       "      <td>1</td>\n",
       "      <td>0</td>\n",
       "      <td>0.000000</td>\n",
       "      <td>172.3</td>\n",
       "    </tr>\n",
       "    <tr>\n",
       "      <th>1</th>\n",
       "      <td>2011</td>\n",
       "      <td>1</td>\n",
       "      <td>1</td>\n",
       "      <td>0.080659</td>\n",
       "      <td>172.6</td>\n",
       "    </tr>\n",
       "    <tr>\n",
       "      <th>2</th>\n",
       "      <td>2011</td>\n",
       "      <td>1</td>\n",
       "      <td>2</td>\n",
       "      <td>0.040330</td>\n",
       "      <td>172.8</td>\n",
       "    </tr>\n",
       "    <tr>\n",
       "      <th>3</th>\n",
       "      <td>2011</td>\n",
       "      <td>1</td>\n",
       "      <td>3</td>\n",
       "      <td>0.524285</td>\n",
       "      <td>173.0</td>\n",
       "    </tr>\n",
       "    <tr>\n",
       "      <th>4</th>\n",
       "      <td>2011</td>\n",
       "      <td>1</td>\n",
       "      <td>4</td>\n",
       "      <td>0.524286</td>\n",
       "      <td>173.2</td>\n",
       "    </tr>\n",
       "  </tbody>\n",
       "</table>\n",
       "</div>"
      ],
      "text/plain": [
       "   year  day  time  irradiation  zenith angle\n",
       "0  2011    1     0     0.000000         172.3\n",
       "1  2011    1     1     0.080659         172.6\n",
       "2  2011    1     2     0.040330         172.8\n",
       "3  2011    1     3     0.524285         173.0\n",
       "4  2011    1     4     0.524286         173.2"
      ]
     },
     "execution_count": 7,
     "metadata": {},
     "output_type": "execute_result"
    }
   ],
   "source": [
    "# Rename columns to more simple names for easier coding.\n",
    "df.columns = ['year', 'day', 'time', 'irradiation', 'zenith angle']\n",
    "df.head()"
   ]
  },
  {
   "cell_type": "code",
   "execution_count": 8,
   "metadata": {
    "collapsed": false
   },
   "outputs": [
    {
     "data": {
      "text/plain": [
       "(175565, 5)"
      ]
     },
     "execution_count": 8,
     "metadata": {},
     "output_type": "execute_result"
    }
   ],
   "source": [
    "# Filter by:\n",
    "# year == 2011,\n",
    "# between 9:00am and 5:00pm, inclusive both bounds\n",
    "df_filtered = df[\n",
    "    df['year'] == 2011\n",
    "]\n",
    "\n",
    "df_filtered = df_filtered[\n",
    "    df_filtered['time'] >= 900\n",
    "]\n",
    "\n",
    "df_filtered = df_filtered[\n",
    "    df_filtered['time'] <= 1700\n",
    "]\n",
    "\n",
    "# Preview shape of the DataFrame\n",
    "df_filtered.shape"
   ]
  },
  {
   "cell_type": "code",
   "execution_count": 9,
   "metadata": {
    "collapsed": false
   },
   "outputs": [
    {
     "name": "stdout",
     "output_type": "stream",
     "text": [
      "481 365 (175565,)\n"
     ]
    }
   ],
   "source": [
    "# Extraction of solar irradiance; reshaping of column into\n",
    "# (number of minutes, number of days) matrix with numpy.\n",
    "r = df_filtered['irradiation']\n",
    "\n",
    "N = 60 * 8 + 1 #the number of sample per day\n",
    "M = 365\n",
    "print(N, M, r.shape)\n",
    "\n",
    "R = np.reshape(r,(N,M),order='F')"
   ]
  },
  {
   "cell_type": "code",
   "execution_count": 10,
   "metadata": {
    "collapsed": false
   },
   "outputs": [
    {
     "name": "stdout",
     "output_type": "stream",
     "text": [
      "(481,) (365,) (481, 365)\n",
      "(481, 365)\n",
      "(481, 365)\n"
     ]
    }
   ],
   "source": [
    "# d = the day axis\n",
    "d = (df_filtered['day'])\n",
    "\n",
    "# t = the time axis\n",
    "# We use our custom converter function to turn the\n",
    "# \"time\" column's timestamp values into a raw minute-only value from 0 to N.\n",
    "t = np.apply_along_axis(int_24hm_to_min, 0, df_filtered['time'])\n",
    "\n",
    "# Remove duplicate entries for day and time.\n",
    "d = np.unique(d)\n",
    "t = np.unique(t)\n",
    "\n",
    "# Check the shape.\n",
    "print(t.shape,d.shape,R.shape)\n",
    "\n",
    "# Prepare the 3D coordinates by creating a meshgrid array.\n",
    "X,Y = np.meshgrid(d,t)\n",
    "print(X.shape)\n",
    "print(Y.shape)\n"
   ]
  },
  {
   "cell_type": "code",
   "execution_count": 11,
   "metadata": {
    "collapsed": false
   },
   "outputs": [],
   "source": [
    "#\n",
    "#\n",
    "# REGULAR DATA GRAPH\n",
    "#\n",
    "#\n",
    "fig = plt.figure()\n",
    "ax  = Axes3D(fig)\n",
    "\n",
    "# Limits\n",
    "ax.set_xlim(0,370)\n",
    "ax.set_ylim(500,1000)\n",
    "\n",
    "# Labels\n",
    "ax.set_xlabel(\"Day of Year [day]\")\n",
    "ax.set_ylabel(\"Time of Day [minutes]\")\n",
    "ax.set_zlabel(\"Solar Irradiation [W/m^2]\")\n",
    "\n",
    "# Plot 3D points from meshgrids and data points.\n",
    "# Note: Each meshgrid accounts for only 1 axes (e.g. X contains only the X-coordinates for each point.)\n",
    "ax.plot_surface(X, Y, R, rstride=30, cstride=30, cmap=cm.coolwarm)\n",
    "plt.show()"
   ]
  },
  {
   "cell_type": "code",
   "execution_count": 13,
   "metadata": {
    "collapsed": false
   },
   "outputs": [],
   "source": [
    "#\n",
    "#\n",
    "# NORMALIZED DATA GRAPH\n",
    "#\n",
    "#\n",
    "\n",
    "# Filter according to cos of zenith angle.\n",
    "df_filtered['zenith angle'] = np.cos(np.deg2rad(df_filtered['zenith angle']))\n",
    "z = df_filtered['irradiation']/df_filtered['zenith angle']\n",
    "\n",
    "# Once again, reshape the data.\n",
    "Z = np.reshape(z,(N,M),order='F')\n",
    "\n",
    "# Using Axes3D-based plot.\n",
    "fig = plt.figure()\n",
    "ax  = Axes3D(fig)\n",
    "\n",
    "# Limits\n",
    "ax.set_xlim(0,370)\n",
    "ax.set_ylim(500,1000)\n",
    "\n",
    "# Labels\n",
    "ax.set_xlabel(\"Day of Year [day]\")\n",
    "ax.set_ylabel(\"Time of Day [minutes]\")\n",
    "ax.set_zlabel(\"Zenith Angle-Normalized Solar Irradiance [W/m^2]\")\n",
    "\n",
    "# Plot 3D points from meshgrid arrays and data points.\n",
    "ax.plot_surface(X, Y, Z, rstride=30, cstride=30, cmap=cm.coolwarm)\n",
    "plt.show()"
   ]
  }
 ],
 "metadata": {
  "anaconda-cloud": {},
  "kernelspec": {
   "display_name": "Python [Root]",
   "language": "python",
   "name": "Python [Root]"
  },
  "language_info": {
   "codemirror_mode": {
    "name": "ipython",
    "version": 3
   },
   "file_extension": ".py",
   "mimetype": "text/x-python",
   "name": "python",
   "nbconvert_exporter": "python",
   "pygments_lexer": "ipython3",
   "version": "3.5.2"
  }
 },
 "nbformat": 4,
 "nbformat_minor": 0
}
